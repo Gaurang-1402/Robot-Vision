{
 "cells": [
  {
   "attachments": {},
   "cell_type": "markdown",
   "metadata": {},
   "source": [
    "For Week 3's homework, please calibrate your own camera. You can use OpenCV, and the checkerboard image that I provided, but you are free to explore other more challenging options. \n",
    "\n",
    "Please upload images with corners detected in a .zip file, and a .txt file containing your calibration results (only the calibration matrix and distortion coefficient would be enough). If you are not sure what \"images with corners detected\" means, check out the examples in the notebook!\n",
    "\n",
    "Please make sure that the checkerboard image has black and white squares, not just any rectangles, as this assumption is baked into the algorithm we demonstrated in class.\n",
    "\n",
    "I would avoid using expensive smartphones for better results. Usually, a webcam provides better results, but you can definitely try and see with your phone camera"
   ]
  },
  {
   "cell_type": "code",
   "execution_count": 12,
   "metadata": {},
   "outputs": [],
   "source": [
    "# import relevant package\n",
    "import numpy as np\n",
    "import cv2\n",
    "import matplotlib.pyplot as plt\n",
    "# this package is to read several files in a folder\n",
    "import glob"
   ]
  },
  {
   "attachments": {},
   "cell_type": "markdown",
   "metadata": {},
   "source": [
    "# Camera Calibration"
   ]
  },
  {
   "attachments": {},
   "cell_type": "markdown",
   "metadata": {},
   "source": [
    "This section will introduce you to OpenCV's camera calibration process. This method, usually called Zhang's method, is published by Zhengyou Zhang from Microsoft Research in a paper titled \"A flexible new technique for camera calibration\". [Link to the original paper here](https://www.microsoft.com/en-us/research/wp-content/uploads/2016/02/tr98-71.pdf).\n",
    "\n",
    "We will be using a chessboard image to do camera calibration.\n",
    "\n",
    "The notebook is adapted from OpenCV's [Tutorial on Camera Calibration](https://docs.opencv.org/4.x/dc/dbb/tutorial_py_calibration.html)."
   ]
  },
  {
   "attachments": {},
   "cell_type": "markdown",
   "metadata": {},
   "source": [
    "### Ideal model"
   ]
  },
  {
   "attachments": {},
   "cell_type": "markdown",
   "metadata": {},
   "source": [
    "First step, we need an \"ideal model\" of point locations on a chessboard. We will use a 7*6 chessboard, so the layout of points follow that. \n",
    "\n",
    "I will not dive into the details of these numpy code that generate such (x, y, z) coordinates. You are welcome to reach out to me during office hour to let me walk you through these Python tricks if interested. But generally they are not terribly important and there are many alternative ways to achieve the same thing.\n",
    "\n",
    "It's worth noting that all the points are in 3-dimensional space, but since they should all reside on a checkerboard, the z coordinates are all 0."
   ]
  },
  {
   "cell_type": "code",
   "execution_count": 13,
   "metadata": {},
   "outputs": [
    {
     "data": {
      "image/png": "[encoded data removed]",
      "text/plain": [
       "<Figure size 640x480 with 1 Axes>"
      ]
     },
     "metadata": {},
     "output_type": "display_data"
    }
   ],
   "source": [
    "# prepare object points, like (0,0,0), (1,0,0), (2,0,0) ....,(6,5,0)\n",
    "objp = np.zeros((6*8,3), np.float32)\n",
    "objp[:,:2] = np.mgrid[0:8,0:6].T.reshape(-1,2)\n",
    "\n",
    "\n",
    "plt.scatter(objp[:, 0], objp[:, 1]);"
   ]
  },
  {
   "attachments": {},
   "cell_type": "markdown",
   "metadata": {},
   "source": [
    "# Camera calibration with your own camera!"
   ]
  },
  {
   "attachments": {},
   "cell_type": "markdown",
   "metadata": {},
   "source": [
    "It may takes some time to boot up OpenCV's video capture functionality, so be patient. \n",
    "\n",
    "After a windows pop up, hit Space to take a photo and hit Esc to exit."
   ]
  },
  {
   "cell_type": "code",
   "execution_count": 14,
   "metadata": {},
   "outputs": [
    {
     "name": "stdout",
     "output_type": "stream",
     "text": [
      "Escape hit, closing...\n"
     ]
    }
   ],
   "source": [
    "# Capture chessboard images from camera\n",
    "\n",
    "import cv2\n",
    "\n",
    "cam = cv2.VideoCapture(0)\n",
    "\n",
    "cv2.namedWindow(\"test\")\n",
    "\n",
    "img_counter = 0\n",
    "\n",
    "while True:\n",
    "    ret, frame = cam.read()\n",
    "    if not ret:\n",
    "        print(\"failed to grab frame\")\n",
    "        break\n",
    "    cv2.imshow(\"test\", frame)\n",
    "\n",
    "    k = cv2.waitKey(1)\n",
    "    if k%256 == 27:\n",
    "        # ESC pressed\n",
    "        print(\"Escape hit, closing...\")\n",
    "        break\n",
    "    elif k%256 == 32:\n",
    "        # SPACE pressed\n",
    "        img_name = \"opencv_frame_{}.jpg\".format(img_counter)\n",
    "        cv2.imwrite(img_name, frame)\n",
    "        print(\"{} written!\".format(img_name))\n",
    "        img_counter += 1\n",
    "\n",
    "cam.release()\n",
    "\n",
    "cv2.destroyAllWindows()"
   ]
  },
  {
   "attachments": {},
   "cell_type": "markdown",
   "metadata": {},
   "source": [
    "We now use the `glob` package to collect all the photos we took of this chessboard for calibration. \n",
    "\n",
    "Here, * indicates a wildcard character. Basically it means that glob will grab any file that starts with \"left\", followed by some characters, and ends with \".jpg\"."
   ]
  },
  {
   "cell_type": "code",
   "execution_count": 15,
   "metadata": {},
   "outputs": [
    {
     "name": "stdout",
     "output_type": "stream",
     "text": [
      "['opencv_frame_0.jpg', 'opencv_frame_1.jpg', 'opencv_frame_10.jpg', 'opencv_frame_11.jpg', 'opencv_frame_12.jpg', 'opencv_frame_13.jpg', 'opencv_frame_14.jpg', 'opencv_frame_2.jpg', 'opencv_frame_3.jpg', 'opencv_frame_4.jpg', 'opencv_frame_5.jpg', 'opencv_frame_6.jpg', 'opencv_frame_7.jpg', 'opencv_frame_8.jpg', 'opencv_frame_9.jpg']\n"
     ]
    }
   ],
   "source": [
    "images = glob.glob('opencv_frame_*.jpg')\n",
    "# images = glob.glob('chess*.jpg')\n",
    "# images = glob.glob('left*.jpg')\n",
    "print(images)\n"
   ]
  },
  {
   "attachments": {},
   "cell_type": "markdown",
   "metadata": {},
   "source": [
    "We create some variables that will remain the same or will be modified inplace throughout the entire algorithm so we don't recreate them every time we process one photo."
   ]
  },
  {
   "cell_type": "code",
   "execution_count": 16,
   "metadata": {},
   "outputs": [],
   "source": [
    "# Arrays to store object points and image points from all the images.\n",
    "objpoints = [] # 3d point in real world space\n",
    "imgpoints = [] # 2d points in image plane.\n",
    "\n",
    "# termination criteria for cornerSubPix. \n",
    "criteria = (cv2.TERM_CRITERIA_EPS + cv2.TERM_CRITERIA_MAX_ITER, 30, 0.001)\n"
   ]
  },
  {
   "attachments": {},
   "cell_type": "markdown",
   "metadata": {},
   "source": [
    "The next code block will find corners(intersections) on the photos of checkerboard."
   ]
  },
  {
   "cell_type": "code",
   "execution_count": 18,
   "metadata": {},
   "outputs": [
    {
     "name": "stdout",
     "output_type": "stream",
     "text": [
      "Here\n",
      "Here\n",
      "Here\n",
      "Here\n",
      "Here\n",
      "Here\n",
      "Here\n",
      "Here\n",
      "Here\n",
      "Here\n",
      "Here\n",
      "Here\n",
      "Here\n",
      "Here\n",
      "Here\n"
     ]
    }
   ],
   "source": [
    "for fname in images:\n",
    "    \n",
    "    \n",
    "    # * 1) First, use OpenCV's IO to read one image at a time based on files grabbed by glob and convert it to grey scale.\n",
    "    img = cv2.imread(fname)\n",
    "    \n",
    "    # Resize to make sure the image does not contain too much pixels for Opencv to find patterns\n",
    "    img = cv2.resize(img, (640,480))\n",
    "    gray = cv2.cvtColor(img, cv2.COLOR_BGR2GRAY)\n",
    "        \n",
    "    # * 2) Feed the image to `cv2.findChessboardCorners`. We specify that the chessboard in use is 7*6.\n",
    "    # Find the chess board corners, we use 7*6 grid\n",
    "    ret, corners = cv2.findChessboardCorners(gray, (8,6),None)\n",
    "\n",
    "\n",
    "    # * If `cv2.findChessboardCorners` does find corners, we use `cv2.cornerSubPix` to further improve the accuracy of such corners. \n",
    "    # * Here we make use of the `criteria` as the termination criteria.\n",
    "    # If found, add object points, image points (after refining them)\n",
    "    if ret == True:\n",
    "        print(\"Here\")\n",
    "        objpoints.append(objp)\n",
    "\n",
    "        # cv2.cornerSubPix() increases the accuracy of the corner coordinates\n",
    "        corners2 = cv2.cornerSubPix(gray,corners,(11,11),(-1,-1),criteria)\n",
    "        \n",
    "        # * We append the coordinates of \"ideal points\" to `objpoints`, and the corner coordinates we just find to `imgpoints`, \n",
    "        # * so we have correspondency for every photo of the checkerboard.\n",
    "        \n",
    "        imgpoints.append(corners2)\n",
    "\n",
    "        # Draw and display the corners\n",
    "\n",
    "        # * Visualize the corners we found on the photo using `cv2.drawChessboardCorners`.\n",
    "        img = cv2.drawChessboardCorners(img, (8,6), corners2,ret)\n",
    "        # replace the colab_imshow with the commented lines if on a local Jupyter environment\n",
    "        \n",
    "        cv2.imshow('img',img)\n",
    "        \n",
    "        # img_name = \"calibrated_img{}.jpg\".format(img_counter)\n",
    "        # cv2.imwrite(img_name, frame)\n",
    "        # print(\"{} written!\".format(img_name))\n",
    "        cv2.waitKey(2000)\n",
    "        \n",
    "        # * Repeat this process for all the photos we've taken, which is 15 times in our case.\n",
    "cv2.destroyAllWindows()\n",
    "\n",
    "        # ! Actual checkerboard is 8*7 but 7*6 is also fine because it is smaller than the checkerboard\n",
    "        "
   ]
  },
  {
   "attachments": {},
   "cell_type": "markdown",
   "metadata": {},
   "source": [
    "Now with correspondency, we can pass all the coordinates and the shape of the image to `cv2.calibrateCamera`. The two `None` here are not relevant in our setup, but you are welcome to take a look at `cv2.calibrateCamera` documentation to figure out why they are here."
   ]
  },
  {
   "cell_type": "code",
   "execution_count": 9,
   "metadata": {},
   "outputs": [],
   "source": [
    "# cv2.calibrateCamera() returns the camera matrix, distortion coefficients, rotation vectors, and translation vectors\n",
    "# print(objpoints)\n",
    "# print(imgpoints)\n",
    "# print(gray)\n",
    "\n",
    "ret, mtx, dist, rvecs, tvecs = cv2.calibrateCamera(objpoints, imgpoints, gray.shape[::-1],None,None)"
   ]
  },
  {
   "cell_type": "code",
   "execution_count": 11,
   "metadata": {},
   "outputs": [
    {
     "name": "stdout",
     "output_type": "stream",
     "text": [
      "Calibration matrix:  [[503.98984186   0.         319.27822574]\n",
      " [  0.         504.10650755 244.50011269]\n",
      " [  0.           0.           1.        ]]\n",
      "Distortion coefficients:  [[ 6.03664664e-02 -1.63309757e-01 -1.66674171e-05  2.79719457e-04\n",
      "   2.46489340e-01]]\n"
     ]
    }
   ],
   "source": [
    "# print the values\n",
    "# print(mtx)\n",
    "# print(dist)\n",
    "# print(rvecs)\n",
    "# print(tvecs)\n",
    "\n",
    "print(\"Calibration matrix: \", mtx)\n",
    "print(\"Distortion coefficients: \", dist)"
   ]
  },
  {
   "attachments": {},
   "cell_type": "markdown",
   "metadata": {},
   "source": [
    "# Undistortion"
   ]
  },
  {
   "attachments": {},
   "cell_type": "markdown",
   "metadata": {},
   "source": [
    "As we can see from the following picture, sometimes in a distorted photo, lines that are supposed to be straight are appearing as curves. This is when we know that we will need to undistort the image first to do any further processing, as many algorithms introduced in this class assumes a perfectly linear camera model."
   ]
  },
  {
   "attachments": {},
   "cell_type": "markdown",
   "metadata": {},
   "source": [
    "We utilize `cv2.getOptimalNewCameraMatrix` to refine the camera matrix.\n",
    "\n",
    "If we pass 1 in as parameter, the undistorted image will most likely lose some pixels at the corners of the image. If we use 0, the undsitorted image will most likely have some dark pixels as fillers at the conrner (although not very obvious in this specific example)."
   ]
  },
  {
   "cell_type": "code",
   "execution_count": null,
   "metadata": {},
   "outputs": [],
   "source": [
    "# Refine the camera matrix \n",
    "img = cv2.imread('opencv_frame_2.jpg')\n",
    "h,  w = img.shape[:2]\n",
    "newcameramtx, roi=cv2.getOptimalNewCameraMatrix(mtx,dist,(w,h),1,(w,h))\n",
    "\n",
    "# undistort\n",
    "dst = cv2.undistort(img, mtx, dist, None, newcameramtx)\n",
    "\n",
    "# crop the image\n",
    "x,y,w,h = roi\n",
    "dst = dst[y:y+h, x:x+w]\n",
    "plt.imshow(dst)"
   ]
  },
  {
   "cell_type": "code",
   "execution_count": null,
   "metadata": {},
   "outputs": [],
   "source": [
    "img = cv2.imread('opencv_frame_2.jpg')\n",
    "plt.imshow(img)"
   ]
  },
  {
   "cell_type": "code",
   "execution_count": null,
   "metadata": {},
   "outputs": [],
   "source": [
    "# Find the re-projection error which measures how exact is the found parameters\n",
    "\n",
    "mean_error = 0\n",
    "for i in range(len(objpoints)):\n",
    "    # transform the object point to image point\n",
    "    imgpoints2, _ = cv2.projectPoints(objpoints[i], rvecs[i], tvecs[i], mtx, dist)\n",
    "    # calculate the absolute norm between our transformation and the corner finding algorithm\n",
    "    error = cv2.norm(imgpoints[i],imgpoints2, cv2.NORM_L2)/len(imgpoints2)\n",
    "    mean_error += error\n",
    "\n",
    "print (\"total error: \", mean_error/len(objpoints) * 100, \"%\")"
   ]
  },
  {
   "cell_type": "code",
   "execution_count": null,
   "metadata": {},
   "outputs": [],
   "source": []
  }
 ],
 "metadata": {
  "kernelspec": {
   "display_name": "robot_vision_class",
   "language": "python",
   "name": "python3"
  },
  "language_info": {
   "codemirror_mode": {
    "name": "ipython",
    "version": 3
   },
   "file_extension": ".py",
   "mimetype": "text/x-python",
   "name": "python",
   "nbconvert_exporter": "python",
   "pygments_lexer": "ipython3",
   "version": "3.8.8"
  },
  "orig_nbformat": 4,
  "vscode": {
   "interpreter": {
    "hash": "28a7dcf41b89ceea79881175bec7b6a3063007774e7dd4410f2273c31f9b85b5"
   }
  }
 },
 "nbformat": 4,
 "nbformat_minor": 2
}
