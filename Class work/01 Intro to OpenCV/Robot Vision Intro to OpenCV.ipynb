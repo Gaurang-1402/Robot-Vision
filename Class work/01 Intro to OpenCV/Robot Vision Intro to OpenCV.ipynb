{
 "cells": [
  {
   "cell_type": "markdown",
   "metadata": {
    "id": "1hL2TkySZfMR"
   },
   "source": [
    "This section will introduce you to OpenCV!\n",
    "\n",
    "OpenCV (Open Source Computer Vision Library: http://opencv.org) is an open-source library that includes several hundreds of computer vision algorithms. OpenCV supports a wide variety of programming languages such as C++, Python, Java, etc, and is available on different platforms including Windows, Linux, OS X, Android, and iOS. This tutorial focus on OpenCV-Python which is the Python API for OpenCV."
   ]
  },
  {
   "cell_type": "markdown",
   "metadata": {
    "id": "bPk_qNHFZfMU"
   },
   "source": [
    "Contents:\n",
    "\n",
    "0. Infrastructure\n",
    "1. Import\n",
    "2. Image IO and basic operations\n",
    "3. Plot\n",
    "4. Video\n",
    "5. Learn new function"
   ]
  },
  {
   "cell_type": "markdown",
   "metadata": {
    "id": "TFBAXXEWdVMS"
   },
   "source": [
    "# Infrastructure"
   ]
  },
  {
   "cell_type": "markdown",
   "metadata": {
    "id": "ZwclRb6tdVMT"
   },
   "source": [
    "# Ipython Notebook\n",
    "\n",
    "All homework can be done in Ipython Notebook, and we recommend you to do so. We will not take points away based on what tools you use to do the homework, as long as it's in a Ipython Notebook.\n",
    "\n",
    "You can finish homework by using:\n",
    "1. Google Colab.\n",
    "It's an online environment that can run Ipython Notebook. As long as you have a google account (so basically your NYU account), you should be able to access it.\n",
    "   - Pros:\n",
    "      1. Most of required packages are pre-installed\n",
    "      2. Almost no hardware requirement.\n",
    "   - Cons:\n",
    "      1. The file system is not as intuitive. \n",
    "      2. Needs internet connection\n",
    "      3. Being idle too long can result in lost progress\n",
    "      4. It's harder to utilize your hardware (e.g. your computer's camera) inside Colab.\n",
    "\n",
    "2. Your own Jupyter environment.\n",
    "Please see [Jupyter's official tutorial](https://jupyter.org/install) for installing. I recommend installing it via Conda. Feel free to schedule an office hour to discuss how to use Conda or how to set up a local Jupyter environment.\n",
    "   - Pros:\n",
    "      1. More freedom\n",
    "      2. More intuitive file system\n",
    "   - Cons:\n",
    "      1. You will need to install and manage all the packages yourself.\n"
   ]
  },
  {
   "cell_type": "markdown",
   "metadata": {
    "id": "NG0NnkksXEbb"
   },
   "source": [
    "\n",
    "## File System on Google Colab\n",
    "\n",
    "If you are using a local Jupyter environment, managing files should be very intuitive, but for Google Colab we need a few extra steps. There are two major ways to do this on Colab.\n",
    "\n",
    "1. Upload to the Current Session\n",
    "  - Click the little folder icon called \"Files\" on the left panel\n",
    "  - In the opened window, click the leftmost icon (it has an up arrow) called \"Upload to session storage\"\n",
    "  - Upload the files\n",
    "  - Note that these files will be lost once you close this tab and you will need to re-upload\n",
    "\n",
    "2. Mount your Google Drive\n",
    "  - Click the little folder icon called \"Files\" on the left panel\n",
    "  - In the opened window, click the rightmost icon (it has an G Drive icon) called \"Mount Drive\".\n",
    "  - Follow the instruction provided by Google\n",
    "  - This way you don't have to re-upload files every time you open a new Colab session."
   ]
  },
  {
   "cell_type": "markdown",
   "metadata": {
    "id": "v_BXCinbZfMV"
   },
   "source": [
    "# Import"
   ]
  },
  {
   "cell_type": "markdown",
   "metadata": {
    "id": "aNM7FBgyZfMV"
   },
   "source": [
    "Here is the [tutorial link](https://docs.opencv.org/master/da/df6/tutorial_py_table_of_contents_setup.html) for installing OpenCV-Python on different operating systems."
   ]
  },
  {
   "cell_type": "markdown",
   "metadata": {
    "id": "LCIjEF1MZfMW"
   },
   "source": [
    "Verify the installation:"
   ]
  },
  {
   "cell_type": "code",
   "execution_count": 3,
   "metadata": {
    "colab": {
     "base_uri": "https://localhost:8080/"
    },
    "executionInfo": {
     "elapsed": 117,
     "status": "ok",
     "timestamp": 1643230301081,
     "user": {
      "displayName": "Irving Fang",
      "photoUrl": "https://lh3.googleusercontent.com/a/default-user=s64",
      "userId": "09097074325096462549"
     },
     "user_tz": 300
    },
    "id": "ufx0dVrTZfMW",
    "outputId": "f4ac6855-8da6-4f33-ded4-1f011ecb8673"
   },
   "outputs": [
    {
     "name": "stdout",
     "output_type": "stream",
     "text": [
      "4.7.0\n"
     ]
    }
   ],
   "source": [
    "# Check the version of OpenCV-Python\n",
    "\n",
    "import cv2\n",
    "print( cv2.__version__ )"
   ]
  },
  {
   "cell_type": "markdown",
   "metadata": {
    "id": "GqbsSTnIdVMX"
   },
   "source": [
    "You may notice that even though the version of OpenCV starts with a 4, (and OpenCV 5 is already in development), we are importing \"cv2\". There is a bit of history behind this and [this Stackoverflow post](https://stackoverflow.com/questions/10417108/what-is-different-between-all-these-opencv-python-interfaces) explains it well. Long story short, it has nothing to do with OpenCV's version and there is indeed a \"cv\". But you should always import \"cv2\" when using Python"
   ]
  },
  {
   "cell_type": "markdown",
   "metadata": {
    "id": "liDvK6d_ZfMY"
   },
   "source": [
    "# Image IO and basic operations"
   ]
  },
  {
   "cell_type": "markdown",
   "metadata": {
    "id": "2tD8Ev-kdVMZ"
   },
   "source": [
    "## When Using Your Own Jupyter Environment"
   ]
  },
  {
   "cell_type": "markdown",
   "metadata": {
    "id": "m3j0eeOddVMa"
   },
   "source": [
    "Now we can use `cv2.imshow` to display image in a new window"
   ]
  },
  {
   "cell_type": "code",
   "execution_count": 4,
   "metadata": {
    "colab": {
     "base_uri": "https://localhost:8080/",
     "height": 409
    },
    "executionInfo": {
     "elapsed": 201,
     "status": "error",
     "timestamp": 1643230662473,
     "user": {
      "displayName": "Irving Fang",
      "photoUrl": "https://lh3.googleusercontent.com/a/default-user=s64",
      "userId": "09097074325096462549"
     },
     "user_tz": 300
    },
    "id": "16z3xjiadVMa",
    "outputId": "b44a4aef-7417-4180-bd20-7967f5b4e0d2"
   },
   "outputs": [],
   "source": [
    "import sys\n",
    "from matplotlib import pyplot as plt\n",
    "\n",
    "# Read an image as BGR. Python will not throw an error when the path is invalid. Instead, the img variable will be None\n",
    "img = cv2.imread('duck.jpg')\n",
    "\n",
    "# Check if the image was loaded correctly\n",
    "if img is None:\n",
    "    sys.exit(\"Could not read the image.\")\n",
    "\n",
    "# Display an image using cv2.imshow()\n",
    "cv2.imshow(\"test\", img)\n",
    "\n",
    "# Wait for any key to close the image window\n",
    "cv2.waitKey(0)\n",
    "cv2.destroyAllWindows()\n",
    "\n",
    "# Write an image. It will return True when writing is successful\n",
    "cv2.imwrite('duck_new.jpg', img)"
   ]
  },
  {
   "cell_type": "markdown",
   "metadata": {
    "id": "5eidR327dVMa"
   },
   "source": [
    "## Other Operations"
   ]
  },
  {
   "cell_type": "markdown",
   "metadata": {
    "id": "WQVzSZQXdVMb"
   },
   "source": [
    "It's worth noting that OpenCV doesn't follow the conventional RGB order. It's actually BGR. Again there is a bit of history here. If you find it interesting, please take a look at this [article and its comment section](https://learnopencv.com/why-does-opencv-use-bgr-color-format/#disqus_thread)."
   ]
  },
  {
   "cell_type": "code",
   "execution_count": 1,
   "metadata": {
    "colab": {
     "base_uri": "https://localhost:8080/"
    },
    "executionInfo": {
     "elapsed": 169,
     "status": "ok",
     "timestamp": 1643230705019,
     "user": {
      "displayName": "Irving Fang",
      "photoUrl": "https://lh3.googleusercontent.com/a/default-user=s64",
      "userId": "09097074325096462549"
     },
     "user_tz": 300
    },
    "id": "vKsBmbseZfMZ",
    "outputId": "9b2f82f9-e131-45b9-ca6d-2b01d0f73749"
   },
   "outputs": [
    {
     "ename": "NameError",
     "evalue": "name 'img' is not defined",
     "output_type": "error",
     "traceback": [
      "\u001b[1;31m---------------------------------------------------------------------------\u001b[0m",
      "\u001b[1;31mNameError\u001b[0m                                 Traceback (most recent call last)",
      "Cell \u001b[1;32mIn[1], line 2\u001b[0m\n\u001b[0;32m      1\u001b[0m \u001b[39m# img class. Since we are using 'cv2', it will be a numpy array\u001b[39;00m\n\u001b[1;32m----> 2\u001b[0m \u001b[39mprint\u001b[39m(img\u001b[39m.\u001b[39m\u001b[39m__class__\u001b[39m)\n\u001b[0;32m      4\u001b[0m \u001b[39m# The shape of RGB image contains width, height, and channel. Some package does not follow this convention.\u001b[39;00m\n\u001b[0;32m      5\u001b[0m \u001b[39mprint\u001b[39m(img\u001b[39m.\u001b[39mshape)\n",
      "\u001b[1;31mNameError\u001b[0m: name 'img' is not defined"
     ]
    }
   ],
   "source": [
    "# img class. Since we are using 'cv2', it will be a numpy array\n",
    "print(img.__class__)\n",
    "\n",
    "# The shape of RGB image contains width, height, and channel. Some package does not follow this convention.\n",
    "print(img.shape)\n",
    "\n",
    "# Access the BGR value of an image using row and column index\n",
    "print(img[0,0])"
   ]
  },
  {
   "cell_type": "markdown",
   "metadata": {
    "id": "DToevX0VdVMb"
   },
   "source": [
    "Sometimes you may want to display images using other plotting package (e.g. matplotlib). Since OpenCV reads images in BGR order, there is some preprocessing needed"
   ]
  },
  {
   "cell_type": "code",
   "execution_count": null,
   "metadata": {
    "colab": {
     "base_uri": "https://localhost:8080/",
     "height": 287
    },
    "executionInfo": {
     "elapsed": 489,
     "status": "ok",
     "timestamp": 1643230921275,
     "user": {
      "displayName": "Irving Fang",
      "photoUrl": "https://lh3.googleusercontent.com/a/default-user=s64",
      "userId": "09097074325096462549"
     },
     "user_tz": 300
    },
    "id": "PFt4UQi2ZfMa",
    "outputId": "bc33ed56-f3e8-4918-f6df-8b02e085877f"
   },
   "outputs": [],
   "source": [
    "# Advanced: Display an image using matplotlib.pyplot.imshow()\n",
    "# transform BGR image to RGB format\n",
    "img2 = img[:,:,::-1] \n",
    "\n",
    "# verify that BGR changed to RGB\n",
    "print(img2[0,0])\n",
    "\n",
    "# Display the image\n",
    "plt.imshow(img2)\n",
    "plt.show()"
   ]
  },
  {
   "cell_type": "code",
   "execution_count": null,
   "metadata": {
    "colab": {
     "base_uri": "https://localhost:8080/",
     "height": 269
    },
    "executionInfo": {
     "elapsed": 783,
     "status": "ok",
     "timestamp": 1643230940548,
     "user": {
      "displayName": "Irving Fang",
      "photoUrl": "https://lh3.googleusercontent.com/a/default-user=s64",
      "userId": "09097074325096462549"
     },
     "user_tz": 300
    },
    "id": "mhDi9scaMhKx",
    "outputId": "f9fd453e-fd72-4873-c6ac-3c229ab60def"
   },
   "outputs": [],
   "source": [
    "plt.imshow(img)\n",
    "plt.show()"
   ]
  },
  {
   "cell_type": "code",
   "execution_count": null,
   "metadata": {
    "colab": {
     "base_uri": "https://localhost:8080/",
     "height": 287
    },
    "executionInfo": {
     "elapsed": 702,
     "status": "ok",
     "timestamp": 1643231237439,
     "user": {
      "displayName": "Irving Fang",
      "photoUrl": "https://lh3.googleusercontent.com/a/default-user=s64",
      "userId": "09097074325096462549"
     },
     "user_tz": 300
    },
    "id": "BUdOrAk_dVMc",
    "outputId": "12dd3e4e-73ca-4e0c-af67-926850e5d16a"
   },
   "outputs": [],
   "source": [
    "# alternatively, OpenCV has built-in function to convert from BGR to RGB\n",
    "img3 = cv2.cvtColor(img, cv2.COLOR_BGR2RGB) \n",
    "\n",
    "# verify that BGR changed to RGB\n",
    "print(img3[0,0])\n",
    "\n",
    "# Display the image\n",
    "plt.imshow(img3)\n",
    "plt.show()"
   ]
  },
  {
   "cell_type": "code",
   "execution_count": null,
   "metadata": {
    "colab": {
     "base_uri": "https://localhost:8080/",
     "height": 877
    },
    "executionInfo": {
     "elapsed": 738,
     "status": "ok",
     "timestamp": 1643231255798,
     "user": {
      "displayName": "Irving Fang",
      "photoUrl": "https://lh3.googleusercontent.com/a/default-user=s64",
      "userId": "09097074325096462549"
     },
     "user_tz": 300
    },
    "id": "EdDyuub8ZfMb",
    "outputId": "1c96115e-cbfe-4dcc-9178-9caba31c0925"
   },
   "outputs": [],
   "source": [
    "# Read an image as grayscale by passing the value 0\n",
    "# Read an image as RGB by passing the value 1\n",
    "img_gray = cv2.imread('duck.jpg', cv2.IMREAD_GRAYSCALE)\n",
    "\n",
    "#img_gray = cv2.imread('duck.jpg', 0)\n",
    "\n",
    "cv2_imshow(img_gray)"
   ]
  },
  {
   "cell_type": "code",
   "execution_count": null,
   "metadata": {
    "colab": {
     "base_uri": "https://localhost:8080/"
    },
    "executionInfo": {
     "elapsed": 176,
     "status": "ok",
     "timestamp": 1643231374737,
     "user": {
      "displayName": "Irving Fang",
      "photoUrl": "https://lh3.googleusercontent.com/a/default-user=s64",
      "userId": "09097074325096462549"
     },
     "user_tz": 300
    },
    "id": "nLIpga4XZfMb",
    "outputId": "97e81474-a3a1-44d6-e376-7dab6488169b"
   },
   "outputs": [],
   "source": [
    "# The shape of grayscale image contains only width and height.\n",
    "print(img_gray.shape)"
   ]
  },
  {
   "cell_type": "code",
   "execution_count": null,
   "metadata": {
    "colab": {
     "base_uri": "https://localhost:8080/",
     "height": 317
    },
    "executionInfo": {
     "elapsed": 398,
     "status": "ok",
     "timestamp": 1643231403751,
     "user": {
      "displayName": "Irving Fang",
      "photoUrl": "https://lh3.googleusercontent.com/a/default-user=s64",
      "userId": "09097074325096462549"
     },
     "user_tz": 300
    },
    "id": "4hv-gcxpZfMc",
    "outputId": "f9b6aad1-1071-4e78-f974-d7cffab9c088"
   },
   "outputs": [],
   "source": [
    "# Resize an image\n",
    "resized_image = cv2.resize(img, (400,300))\n",
    "cv2_imshow(resized_image)"
   ]
  },
  {
   "cell_type": "code",
   "execution_count": null,
   "metadata": {
    "colab": {
     "base_uri": "https://localhost:8080/",
     "height": 877
    },
    "executionInfo": {
     "elapsed": 1489,
     "status": "ok",
     "timestamp": 1643231417957,
     "user": {
      "displayName": "Irving Fang",
      "photoUrl": "https://lh3.googleusercontent.com/a/default-user=s64",
      "userId": "09097074325096462549"
     },
     "user_tz": 300
    },
    "id": "Nj3z0fZlZfMc",
    "outputId": "5433eccc-ae22-4e5f-a5cc-ee21a78d6711"
   },
   "outputs": [],
   "source": [
    "# Copy an image\n",
    "img_copy = img.copy()\n",
    "cv2_imshow(img_copy)"
   ]
  },
  {
   "cell_type": "code",
   "execution_count": null,
   "metadata": {
    "colab": {
     "base_uri": "https://localhost:8080/",
     "height": 217
    },
    "executionInfo": {
     "elapsed": 215,
     "status": "ok",
     "timestamp": 1643231433231,
     "user": {
      "displayName": "Irving Fang",
      "photoUrl": "https://lh3.googleusercontent.com/a/default-user=s64",
      "userId": "09097074325096462549"
     },
     "user_tz": 300
    },
    "id": "Ug2CvdfbZfMc",
    "outputId": "7d178c9f-ad56-49d7-cd76-f81e49db81df"
   },
   "outputs": [],
   "source": [
    "# Crop an image from top left (x1,y1) to bottom right (x2,y2): img[x1:x2,y1:y2]\n",
    "imgCrop=img[0:200,200:400]\n",
    "cv2_imshow(imgCrop)"
   ]
  },
  {
   "cell_type": "markdown",
   "metadata": {
    "id": "Kuq_nnvGZfMd"
   },
   "source": [
    "# Plot"
   ]
  },
  {
   "cell_type": "markdown",
   "metadata": {
    "id": "o5UhaibaQqS6"
   },
   "source": [
    "Here we showcase some very basic plotting functions"
   ]
  },
  {
   "cell_type": "code",
   "execution_count": null,
   "metadata": {
    "colab": {
     "base_uri": "https://localhost:8080/",
     "height": 335
    },
    "executionInfo": {
     "elapsed": 118,
     "status": "ok",
     "timestamp": 1643231522790,
     "user": {
      "displayName": "Irving Fang",
      "photoUrl": "https://lh3.googleusercontent.com/a/default-user=s64",
      "userId": "09097074325096462549"
     },
     "user_tz": 300
    },
    "id": "TcoNymUUZfMd",
    "outputId": "4b3b3230-ea91-4376-a4ac-6acc6e5ba89e"
   },
   "outputs": [],
   "source": [
    "# Create an image by using the NumPy package\n",
    "import numpy as np\n",
    "\n",
    "# Pass the shape of the image as a tuple (width, height, channel) and datatype as type\n",
    "img=np.zeros((300,300,3),dtype=\"uint8\")\n",
    "cv2_imshow(img)\n",
    "print(img.shape)"
   ]
  },
  {
   "cell_type": "code",
   "execution_count": null,
   "metadata": {
    "colab": {
     "base_uri": "https://localhost:8080/",
     "height": 317
    },
    "executionInfo": {
     "elapsed": 165,
     "status": "ok",
     "timestamp": 1643231560011,
     "user": {
      "displayName": "Irving Fang",
      "photoUrl": "https://lh3.googleusercontent.com/a/default-user=s64",
      "userId": "09097074325096462549"
     },
     "user_tz": 300
    },
    "id": "xL0pfGjxZfMd",
    "outputId": "73c16f7c-66eb-4a5d-c732-d871e59c0d3f"
   },
   "outputs": [],
   "source": [
    "# Draw lines\n",
    "# cv2.line(image, the starting point, the ending point, color RGB values, thickness)\n",
    "line = cv2.line(img, (250,30), (20,250), (48,191,38),8)\n",
    "line = cv2.line(img, (10,10), (200,200), (0,0,255),3)\n",
    "line = cv2.line(img, (10,100), (300,100), (0,255,255),5)\n",
    "cv2_imshow(line)"
   ]
  },
  {
   "cell_type": "code",
   "execution_count": null,
   "metadata": {
    "colab": {
     "base_uri": "https://localhost:8080/",
     "height": 317
    },
    "executionInfo": {
     "elapsed": 122,
     "status": "ok",
     "timestamp": 1643231594383,
     "user": {
      "displayName": "Irving Fang",
      "photoUrl": "https://lh3.googleusercontent.com/a/default-user=s64",
      "userId": "09097074325096462549"
     },
     "user_tz": 300
    },
    "id": "tl7qBu6DZfMe",
    "outputId": "b0d84b97-bf84-4428-fa34-4bc02c585247"
   },
   "outputs": [],
   "source": [
    "# Draw rectangle\n",
    "img=np.zeros((300,300,3),dtype=\"uint8\")\n",
    "# cv2.rectangle(img, top left point, bottom right point, color RGB value, thickness)\n",
    "rect=cv2.rectangle(img,(50,10),(250,250),(155,171,32),6)\n",
    "# If the thickness value is -1 it will fill the shape with color\n",
    "rect=cv2.rectangle(img,(100,100),(200,200),(63,161,63),-1)\n",
    "cv2_imshow(rect)"
   ]
  },
  {
   "cell_type": "code",
   "execution_count": null,
   "metadata": {
    "colab": {
     "base_uri": "https://localhost:8080/",
     "height": 617
    },
    "executionInfo": {
     "elapsed": 164,
     "status": "ok",
     "timestamp": 1643231650839,
     "user": {
      "displayName": "Irving Fang",
      "photoUrl": "https://lh3.googleusercontent.com/a/default-user=s64",
      "userId": "09097074325096462549"
     },
     "user_tz": 300
    },
    "id": "VbTzpw0FZfMe",
    "outputId": "b95279d8-0a89-4d3b-f7d8-cce0f3e6dbfb"
   },
   "outputs": [],
   "source": [
    "# Draw a circle\n",
    "img=np.zeros((300,300,3),dtype=\"uint8\")\n",
    "# cv2.circle(img, center, radius, color RGB value, thickness)\n",
    "circle=cv2.circle(img,(150,150),100,(219,125,18),6)\n",
    "circle=cv2.circle(img,(150,150),50,(186,41,15),-1)\n",
    "cv2_imshow(circle)\n",
    "\n",
    "\n",
    "# Draw an eclippse\n",
    "img=np.zeros((300,700,3),dtype=\"uint8\")\n",
    "# cv2.ellipse(img, center, axes, angle, startAngle, endAngle, color, thickness)\n",
    "el=cv2.ellipse(img,(200,200),(150,50),0,0,180,255,-1)\n",
    "el=cv2.ellipse(img,(200,100),(150,50),30,0,360,(163,20,44),5)\n",
    "cv2_imshow(el)"
   ]
  },
  {
   "cell_type": "code",
   "execution_count": null,
   "metadata": {
    "colab": {
     "base_uri": "https://localhost:8080/",
     "height": 317
    },
    "executionInfo": {
     "elapsed": 180,
     "status": "ok",
     "timestamp": 1643231675438,
     "user": {
      "displayName": "Irving Fang",
      "photoUrl": "https://lh3.googleusercontent.com/a/default-user=s64",
      "userId": "09097074325096462549"
     },
     "user_tz": 300
    },
    "id": "8Zjc8UddZfMf",
    "outputId": "891ee825-3bd9-4817-d1ed-095a75a635dc"
   },
   "outputs": [],
   "source": [
    "# Draw text on the image\n",
    "img=np.zeros((300,700,3),dtype=\"uint8\")\n",
    "font=cv2.FONT_HERSHEY_COMPLEX\n",
    "# cv2.putText(img, text, top left point, fontFace, fontScale, color, thickness,lineType)\n",
    "vb=cv2.putText(img,\"I like opencv\",(10,50),font,2,(13,209,35),1,cv2.LINE_AA)\n",
    "vb=cv2.putText(img,\"Have a nice day\",(50,150),font,2,(13,209,35),1,cv2.LINE_8)\n",
    "cv2_imshow(vb)"
   ]
  },
  {
   "cell_type": "markdown",
   "metadata": {
    "id": "rLz_ijqsZfMf"
   },
   "source": [
    "# Video"
   ]
  },
  {
   "cell_type": "markdown",
   "metadata": {
    "id": "Pw9W_H7pQwE0"
   },
   "source": [
    "It's very hard to run this section purely on Google Colab, so please wait for the hands-on session for demonstration and further explanation"
   ]
  },
  {
   "cell_type": "markdown",
   "metadata": {
    "id": "JyiKC_C7ZfMi"
   },
   "source": [
    "Playing video from file"
   ]
  },
  {
   "cell_type": "code",
   "execution_count": null,
   "metadata": {
    "colab": {
     "background_save": true
    },
    "id": "Zbul9SCLZfMi"
   },
   "outputs": [],
   "source": [
    "# Change camera index to video file name\n",
    "cap = cv2.VideoCapture('snowboard_jump.mp4')\n",
    "\n",
    "while(cap.isOpened()):\n",
    "    ret, frame = cap.read()\n",
    "\n",
    "    if not ret:\n",
    "      break\n",
    "    \n",
    "    gray = cv2.cvtColor(frame, cv2.COLOR_BGR2GRAY)\n",
    "\n",
    "    cv2.imshow('test', gray)\n",
    "    \n",
    "    # To play the video at a normal speed, set the parameter to 25ms\n",
    "    if cv2.waitKey(25) & 0xFF == ord('q'):\n",
    "        break\n",
    "\n",
    "cap.release()\n",
    "cv2.destroyAllWindows()"
   ]
  },
  {
   "cell_type": "markdown",
   "metadata": {
    "id": "d4iGKfg-ZfMi"
   },
   "source": [
    "Read a video, flip every frame in vertical direction, and save the video:"
   ]
  },
  {
   "cell_type": "code",
   "execution_count": null,
   "metadata": {
    "id": "raPc89dfZfMi"
   },
   "outputs": [],
   "source": [
    "cap = cv2.VideoCapture('snowboard_jump.mp4')\n",
    "\n",
    "height = int(cap.get(cv2.CAP_PROP_FRAME_HEIGHT))\n",
    "width = int(cap.get(cv2.CAP_PROP_FRAME_WIDTH))\n",
    "\n",
    "# Define the codec from https://www.fourcc.org/codecs.php\n",
    "fourcc = cv2.VideoWriter_fourcc(*'MJPG')\n",
    "out = cv2.VideoWriter('output5.avi', fourcc, 30, (width, height), isColor=True)\n",
    "\n",
    "while cap.isOpened():\n",
    "    # get validity boolean and current frame\n",
    "    ret, frame = cap.read()\n",
    "\n",
    "    # if valid tag is false, loop back to start\n",
    "    if not ret:\n",
    "        break\n",
    "    else:\n",
    "        frame = cv2.resize(frame, (width, height))\n",
    "        \n",
    "        # flip the frame in vertical direction\n",
    "        frame = cv2.flip(frame,0)\n",
    "        out.write(frame)\n",
    "        \n",
    "        cv2.imshow('frame',frame)\n",
    "        if cv2.waitKey(1) & 0xFF == ord('q'):\n",
    "            break\n",
    "\n",
    "cap.release()\n",
    "out.release()\n",
    "cv2.destroyAllWindows()"
   ]
  },
  {
   "cell_type": "markdown",
   "metadata": {
    "id": "XrZPdxrgZfMj"
   },
   "source": [
    "# Learn new functions"
   ]
  },
  {
   "cell_type": "markdown",
   "metadata": {
    "id": "wI-XQvSGZfMj"
   },
   "source": [
    "Here is the official OpenCV-Python [Tutorial link](https://docs.opencv.org/master/d6/d00/tutorial_py_root.html)."
   ]
  }
 ],
 "metadata": {
  "colab": {
   "name": "Robot Vision Intro to OpenCV.ipynb",
   "provenance": []
  },
  "kernelspec": {
   "display_name": "robot_vision_class",
   "language": "python",
   "name": "python3"
  },
  "language_info": {
   "codemirror_mode": {
    "name": "ipython",
    "version": 3
   },
   "file_extension": ".py",
   "mimetype": "text/x-python",
   "name": "python",
   "nbconvert_exporter": "python",
   "pygments_lexer": "ipython3",
   "version": "3.8.8"
  },
  "vscode": {
   "interpreter": {
    "hash": "28a7dcf41b89ceea79881175bec7b6a3063007774e7dd4410f2273c31f9b85b5"
   }
  }
 },
 "nbformat": 4,
 "nbformat_minor": 1
}
